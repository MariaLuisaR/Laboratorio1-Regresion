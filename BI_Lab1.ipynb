{
  "cells": [
    {
      "cell_type": "markdown",
      "metadata": {
        "id": "n1BYXy9G8xLH"
      },
      "source": [
        "Laboratorio 1 - Regresión\n",
        "\n",
        "Integrantes:\n",
        "*   Jaime Torres - 202014866\n",
        "*   Juan Gullermo Gutierrez - 202122659\n",
        "*   Maria Luisa Rodríguez -202121549\n",
        "\n"
      ]
    },
    {
      "cell_type": "code",
      "execution_count": null,
      "metadata": {
        "id": "zRqoCO8b8v_e"
      },
      "outputs": [],
      "source": [
        "import pandas as pd\n",
        "\n",
        "train_data = pd.read_csv('./data/Lab1_train_data.csv')\n",
        "train_data"
      ]
    }
  ],
  "metadata": {
    "colab": {
      "provenance": []
    },
    "kernelspec": {
      "display_name": "Python 3",
      "name": "python3"
    },
    "language_info": {
      "name": "python"
    }
  },
  "nbformat": 4,
  "nbformat_minor": 0
}
