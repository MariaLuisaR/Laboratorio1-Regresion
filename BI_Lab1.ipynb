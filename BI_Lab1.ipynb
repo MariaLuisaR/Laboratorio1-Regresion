{
  "nbformat": 4,
  "nbformat_minor": 0,
  "metadata": {
    "colab": {
      "provenance": []
    },
    "kernelspec": {
      "name": "python3",
      "display_name": "Python 3"
    },
    "language_info": {
      "name": "python"
    }
  },
  "cells": [
    {
      "cell_type": "markdown",
      "source": [
        "Laboratorio 1 - Regresión\n",
        "\n",
        "Integrantes:\n",
        "*   Jaime Torres - 202014866\n",
        "*   Juan Gullermo Gutierrez - 202122659\n",
        "*   Maria Luisa Rodríguez -202121549\n",
        "\n"
      ],
      "metadata": {
        "id": "n1BYXy9G8xLH"
      }
    },
    {
      "cell_type": "code",
      "execution_count": null,
      "metadata": {
        "id": "zRqoCO8b8v_e"
      },
      "outputs": [],
      "source": []
    }
  ]
}